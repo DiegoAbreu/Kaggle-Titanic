{
  "nbformat": 4,
  "nbformat_minor": 0,
  "metadata": {
    "colab": {
      "name": "Kg-Titanic.ipynb",
      "version": "0.3.2",
      "provenance": [],
      "collapsed_sections": []
    },
    "kernelspec": {
      "name": "python3",
      "display_name": "Python 3"
    }
  },
  "cells": [
    {
      "metadata": {
        "id": "BUJ2-CI8991x",
        "colab_type": "text"
      },
      "cell_type": "markdown",
      "source": [
        "# Kaggle: Titanic\n",
        "https://www.kaggle.com/c/titanic <br/>\n",
        "Data: 06/02/2019 (updated)<br/>\n",
        "Autor: Diego Abreu | https://github.com/DiegoAbreu/"
      ]
    },
    {
      "metadata": {
        "id": "AeDLjq5tDLSW",
        "colab_type": "text"
      },
      "cell_type": "markdown",
      "source": [
        "Desafio: Prever se um passageiro sobreviveu ou não, baseando-se em seus dados."
      ]
    },
    {
      "metadata": {
        "id": "JEy5DWtS-CYr",
        "colab_type": "text"
      },
      "cell_type": "markdown",
      "source": [
        "***"
      ]
    },
    {
      "metadata": {
        "id": "yrXXdMFjGC1y",
        "colab_type": "text"
      },
      "cell_type": "markdown",
      "source": [
        "##O quê os dados significam?\n"
      ]
    },
    {
      "metadata": {
        "id": "cO356PVzXaLa",
        "colab_type": "text"
      },
      "cell_type": "markdown",
      "source": [
        "* **PassengerId: ** Número de identificação do passageiro;\n",
        "\n",
        "* **Survived: **Indica se o passageiro sobreviveu. 0 = Não sobreviveu e 1 = Sobreviveu;\n",
        "\n",
        "* **Pclass:** Classe. 1 = Primeira classe, 2 = Segunda classe e 3 = Terceira classe;\n",
        "\n",
        "* **Name:** Nome do passageiro;\n",
        "\n",
        "* **Sex:** Gênero;\n",
        "\n",
        "* **Age:** Idade em anos;\n",
        "\n",
        "* **SibSp:** Número de irmãos e cônjuges a bordo ;\n",
        "\n",
        "* **Parch:** Número de pais e filhos a bordo;\n",
        "\n",
        "* **Ticket:** Número do bilhete da passagem;\n",
        "\n",
        "* **Fare:** Valor da passagem;\n",
        "\n",
        "* **Cabin:** Número da cabine;\n",
        "\n",
        "* **Embarked:** Porto em que embarcou. C = Cherbourg, Q = Queenstown e S = Southampton.\n",
        "\n",
        "<br/>\n",
        "\n",
        "O objetivo desse desafio é criar um modelo de predição que seja capaz de atribuir um valor para a variável \"Survived\" com base nas demais informações.\n"
      ]
    },
    {
      "metadata": {
        "id": "hL7tdZQwMCBx",
        "colab_type": "text"
      },
      "cell_type": "markdown",
      "source": [
        "***"
      ]
    },
    {
      "metadata": {
        "id": "E1qIkfApBTd9",
        "colab_type": "text"
      },
      "cell_type": "markdown",
      "source": [
        "## Importando o Pandas e os datasets de treino e teste:"
      ]
    },
    {
      "metadata": {
        "id": "mLeE0lkv9rx2",
        "colab_type": "code",
        "colab": {}
      },
      "cell_type": "code",
      "source": [
        "import pandas as pd\n",
        "Treino = pd.read_csv(\"https://diegoabreu.com/Uploads/Datasets/Kg-Titanic/train.csv\")\n",
        "Teste = pd.read_csv(\"https://diegoabreu.com/Uploads/Datasets/Kg-Titanic/test.csv\")"
      ],
      "execution_count": 0,
      "outputs": []
    },
    {
      "metadata": {
        "id": "vttb1F_2BlMl",
        "colab_type": "text"
      },
      "cell_type": "markdown",
      "source": [
        "Verificando os dados:"
      ]
    },
    {
      "metadata": {
        "id": "FhPTOKgyW5dk",
        "colab_type": "text"
      },
      "cell_type": "markdown",
      "source": [
        "Tamanhos:"
      ]
    },
    {
      "metadata": {
        "id": "mc5VBXprVxIb",
        "colab_type": "code",
        "outputId": "542e2b6d-6b4c-4b3e-9a13-d0d1dac530e3",
        "colab": {
          "base_uri": "https://localhost:8080/",
          "height": 35
        }
      },
      "cell_type": "code",
      "source": [
        "Treino.shape"
      ],
      "execution_count": 2,
      "outputs": [
        {
          "output_type": "execute_result",
          "data": {
            "text/plain": [
              "(891, 12)"
            ]
          },
          "metadata": {
            "tags": []
          },
          "execution_count": 2
        }
      ]
    },
    {
      "metadata": {
        "id": "x0HC2AjaW9ZM",
        "colab_type": "code",
        "outputId": "f44e26c7-8b85-47ed-d6f5-58db19f0424c",
        "colab": {
          "base_uri": "https://localhost:8080/",
          "height": 35
        }
      },
      "cell_type": "code",
      "source": [
        "Teste.shape"
      ],
      "execution_count": 3,
      "outputs": [
        {
          "output_type": "execute_result",
          "data": {
            "text/plain": [
              "(418, 11)"
            ]
          },
          "metadata": {
            "tags": []
          },
          "execution_count": 3
        }
      ]
    },
    {
      "metadata": {
        "id": "BFRXQIMOW_fq",
        "colab_type": "text"
      },
      "cell_type": "markdown",
      "source": [
        "Datasets:"
      ]
    },
    {
      "metadata": {
        "id": "NWO9HQUC-x5q",
        "colab_type": "code",
        "outputId": "9a2290b0-9ab3-42aa-a446-844f5013bd8b",
        "colab": {
          "base_uri": "https://localhost:8080/",
          "height": 241
        }
      },
      "cell_type": "code",
      "source": [
        "Treino.head()"
      ],
      "execution_count": 4,
      "outputs": [
        {
          "output_type": "execute_result",
          "data": {
            "text/html": [
              "<div>\n",
              "<style scoped>\n",
              "    .dataframe tbody tr th:only-of-type {\n",
              "        vertical-align: middle;\n",
              "    }\n",
              "\n",
              "    .dataframe tbody tr th {\n",
              "        vertical-align: top;\n",
              "    }\n",
              "\n",
              "    .dataframe thead th {\n",
              "        text-align: right;\n",
              "    }\n",
              "</style>\n",
              "<table border=\"1\" class=\"dataframe\">\n",
              "  <thead>\n",
              "    <tr style=\"text-align: right;\">\n",
              "      <th></th>\n",
              "      <th>PassengerId</th>\n",
              "      <th>Survived</th>\n",
              "      <th>Pclass</th>\n",
              "      <th>Name</th>\n",
              "      <th>Sex</th>\n",
              "      <th>Age</th>\n",
              "      <th>SibSp</th>\n",
              "      <th>Parch</th>\n",
              "      <th>Ticket</th>\n",
              "      <th>Fare</th>\n",
              "      <th>Cabin</th>\n",
              "      <th>Embarked</th>\n",
              "    </tr>\n",
              "  </thead>\n",
              "  <tbody>\n",
              "    <tr>\n",
              "      <th>0</th>\n",
              "      <td>1</td>\n",
              "      <td>0</td>\n",
              "      <td>3</td>\n",
              "      <td>Braund, Mr. Owen Harris</td>\n",
              "      <td>male</td>\n",
              "      <td>22.0</td>\n",
              "      <td>1</td>\n",
              "      <td>0</td>\n",
              "      <td>A/5 21171</td>\n",
              "      <td>7.2500</td>\n",
              "      <td>NaN</td>\n",
              "      <td>S</td>\n",
              "    </tr>\n",
              "    <tr>\n",
              "      <th>1</th>\n",
              "      <td>2</td>\n",
              "      <td>1</td>\n",
              "      <td>1</td>\n",
              "      <td>Cumings, Mrs. John Bradley (Florence Briggs Th...</td>\n",
              "      <td>female</td>\n",
              "      <td>38.0</td>\n",
              "      <td>1</td>\n",
              "      <td>0</td>\n",
              "      <td>PC 17599</td>\n",
              "      <td>71.2833</td>\n",
              "      <td>C85</td>\n",
              "      <td>C</td>\n",
              "    </tr>\n",
              "    <tr>\n",
              "      <th>2</th>\n",
              "      <td>3</td>\n",
              "      <td>1</td>\n",
              "      <td>3</td>\n",
              "      <td>Heikkinen, Miss. Laina</td>\n",
              "      <td>female</td>\n",
              "      <td>26.0</td>\n",
              "      <td>0</td>\n",
              "      <td>0</td>\n",
              "      <td>STON/O2. 3101282</td>\n",
              "      <td>7.9250</td>\n",
              "      <td>NaN</td>\n",
              "      <td>S</td>\n",
              "    </tr>\n",
              "    <tr>\n",
              "      <th>3</th>\n",
              "      <td>4</td>\n",
              "      <td>1</td>\n",
              "      <td>1</td>\n",
              "      <td>Futrelle, Mrs. Jacques Heath (Lily May Peel)</td>\n",
              "      <td>female</td>\n",
              "      <td>35.0</td>\n",
              "      <td>1</td>\n",
              "      <td>0</td>\n",
              "      <td>113803</td>\n",
              "      <td>53.1000</td>\n",
              "      <td>C123</td>\n",
              "      <td>S</td>\n",
              "    </tr>\n",
              "    <tr>\n",
              "      <th>4</th>\n",
              "      <td>5</td>\n",
              "      <td>0</td>\n",
              "      <td>3</td>\n",
              "      <td>Allen, Mr. William Henry</td>\n",
              "      <td>male</td>\n",
              "      <td>35.0</td>\n",
              "      <td>0</td>\n",
              "      <td>0</td>\n",
              "      <td>373450</td>\n",
              "      <td>8.0500</td>\n",
              "      <td>NaN</td>\n",
              "      <td>S</td>\n",
              "    </tr>\n",
              "  </tbody>\n",
              "</table>\n",
              "</div>"
            ],
            "text/plain": [
              "   PassengerId  Survived  Pclass  \\\n",
              "0            1         0       3   \n",
              "1            2         1       1   \n",
              "2            3         1       3   \n",
              "3            4         1       1   \n",
              "4            5         0       3   \n",
              "\n",
              "                                                Name     Sex   Age  SibSp  \\\n",
              "0                            Braund, Mr. Owen Harris    male  22.0      1   \n",
              "1  Cumings, Mrs. John Bradley (Florence Briggs Th...  female  38.0      1   \n",
              "2                             Heikkinen, Miss. Laina  female  26.0      0   \n",
              "3       Futrelle, Mrs. Jacques Heath (Lily May Peel)  female  35.0      1   \n",
              "4                           Allen, Mr. William Henry    male  35.0      0   \n",
              "\n",
              "   Parch            Ticket     Fare Cabin Embarked  \n",
              "0      0         A/5 21171   7.2500   NaN        S  \n",
              "1      0          PC 17599  71.2833   C85        C  \n",
              "2      0  STON/O2. 3101282   7.9250   NaN        S  \n",
              "3      0            113803  53.1000  C123        S  \n",
              "4      0            373450   8.0500   NaN        S  "
            ]
          },
          "metadata": {
            "tags": []
          },
          "execution_count": 4
        }
      ]
    },
    {
      "metadata": {
        "id": "gAEjnnaxAwBV",
        "colab_type": "code",
        "outputId": "70cb1495-2bac-4576-dc02-f0d43eeb7835",
        "colab": {
          "base_uri": "https://localhost:8080/",
          "height": 206
        }
      },
      "cell_type": "code",
      "source": [
        "Teste.head()"
      ],
      "execution_count": 5,
      "outputs": [
        {
          "output_type": "execute_result",
          "data": {
            "text/html": [
              "<div>\n",
              "<style scoped>\n",
              "    .dataframe tbody tr th:only-of-type {\n",
              "        vertical-align: middle;\n",
              "    }\n",
              "\n",
              "    .dataframe tbody tr th {\n",
              "        vertical-align: top;\n",
              "    }\n",
              "\n",
              "    .dataframe thead th {\n",
              "        text-align: right;\n",
              "    }\n",
              "</style>\n",
              "<table border=\"1\" class=\"dataframe\">\n",
              "  <thead>\n",
              "    <tr style=\"text-align: right;\">\n",
              "      <th></th>\n",
              "      <th>PassengerId</th>\n",
              "      <th>Pclass</th>\n",
              "      <th>Name</th>\n",
              "      <th>Sex</th>\n",
              "      <th>Age</th>\n",
              "      <th>SibSp</th>\n",
              "      <th>Parch</th>\n",
              "      <th>Ticket</th>\n",
              "      <th>Fare</th>\n",
              "      <th>Cabin</th>\n",
              "      <th>Embarked</th>\n",
              "    </tr>\n",
              "  </thead>\n",
              "  <tbody>\n",
              "    <tr>\n",
              "      <th>0</th>\n",
              "      <td>892</td>\n",
              "      <td>3</td>\n",
              "      <td>Kelly, Mr. James</td>\n",
              "      <td>male</td>\n",
              "      <td>34.5</td>\n",
              "      <td>0</td>\n",
              "      <td>0</td>\n",
              "      <td>330911</td>\n",
              "      <td>7.8292</td>\n",
              "      <td>NaN</td>\n",
              "      <td>Q</td>\n",
              "    </tr>\n",
              "    <tr>\n",
              "      <th>1</th>\n",
              "      <td>893</td>\n",
              "      <td>3</td>\n",
              "      <td>Wilkes, Mrs. James (Ellen Needs)</td>\n",
              "      <td>female</td>\n",
              "      <td>47.0</td>\n",
              "      <td>1</td>\n",
              "      <td>0</td>\n",
              "      <td>363272</td>\n",
              "      <td>7.0000</td>\n",
              "      <td>NaN</td>\n",
              "      <td>S</td>\n",
              "    </tr>\n",
              "    <tr>\n",
              "      <th>2</th>\n",
              "      <td>894</td>\n",
              "      <td>2</td>\n",
              "      <td>Myles, Mr. Thomas Francis</td>\n",
              "      <td>male</td>\n",
              "      <td>62.0</td>\n",
              "      <td>0</td>\n",
              "      <td>0</td>\n",
              "      <td>240276</td>\n",
              "      <td>9.6875</td>\n",
              "      <td>NaN</td>\n",
              "      <td>Q</td>\n",
              "    </tr>\n",
              "    <tr>\n",
              "      <th>3</th>\n",
              "      <td>895</td>\n",
              "      <td>3</td>\n",
              "      <td>Wirz, Mr. Albert</td>\n",
              "      <td>male</td>\n",
              "      <td>27.0</td>\n",
              "      <td>0</td>\n",
              "      <td>0</td>\n",
              "      <td>315154</td>\n",
              "      <td>8.6625</td>\n",
              "      <td>NaN</td>\n",
              "      <td>S</td>\n",
              "    </tr>\n",
              "    <tr>\n",
              "      <th>4</th>\n",
              "      <td>896</td>\n",
              "      <td>3</td>\n",
              "      <td>Hirvonen, Mrs. Alexander (Helga E Lindqvist)</td>\n",
              "      <td>female</td>\n",
              "      <td>22.0</td>\n",
              "      <td>1</td>\n",
              "      <td>1</td>\n",
              "      <td>3101298</td>\n",
              "      <td>12.2875</td>\n",
              "      <td>NaN</td>\n",
              "      <td>S</td>\n",
              "    </tr>\n",
              "  </tbody>\n",
              "</table>\n",
              "</div>"
            ],
            "text/plain": [
              "   PassengerId  Pclass                                          Name     Sex  \\\n",
              "0          892       3                              Kelly, Mr. James    male   \n",
              "1          893       3              Wilkes, Mrs. James (Ellen Needs)  female   \n",
              "2          894       2                     Myles, Mr. Thomas Francis    male   \n",
              "3          895       3                              Wirz, Mr. Albert    male   \n",
              "4          896       3  Hirvonen, Mrs. Alexander (Helga E Lindqvist)  female   \n",
              "\n",
              "    Age  SibSp  Parch   Ticket     Fare Cabin Embarked  \n",
              "0  34.5      0      0   330911   7.8292   NaN        Q  \n",
              "1  47.0      1      0   363272   7.0000   NaN        S  \n",
              "2  62.0      0      0   240276   9.6875   NaN        Q  \n",
              "3  27.0      0      0   315154   8.6625   NaN        S  \n",
              "4  22.0      1      1  3101298  12.2875   NaN        S  "
            ]
          },
          "metadata": {
            "tags": []
          },
          "execution_count": 5
        }
      ]
    },
    {
      "metadata": {
        "id": "nZvDBm6PCRWh",
        "colab_type": "text"
      },
      "cell_type": "markdown",
      "source": [
        "***"
      ]
    },
    {
      "metadata": {
        "id": "f_J8YOXzCqaU",
        "colab_type": "text"
      },
      "cell_type": "markdown",
      "source": [
        "##Tratamento dos dados"
      ]
    },
    {
      "metadata": {
        "id": "t7gCgfekCxNv",
        "colab_type": "text"
      },
      "cell_type": "markdown",
      "source": [
        "###(T1) Removendo valores desnecessários:\n"
      ]
    },
    {
      "metadata": {
        "id": "puxrlGBTC-N2",
        "colab_type": "text"
      },
      "cell_type": "markdown",
      "source": [
        "Aqui, retiramos valores que não devem influenciar na predição:\n"
      ]
    },
    {
      "metadata": {
        "id": "1TMYiV_-Bqpn",
        "colab_type": "code",
        "colab": {}
      },
      "cell_type": "code",
      "source": [
        "Treino_t1 = Treino.drop(['Name', 'Ticket', 'Cabin'], axis=1)\n",
        "Teste_t1 = Teste.drop(['Name', 'Ticket', 'Cabin'], axis=1)"
      ],
      "execution_count": 0,
      "outputs": []
    },
    {
      "metadata": {
        "id": "DVIA_g3eKE3T",
        "colab_type": "text"
      },
      "cell_type": "markdown",
      "source": [
        "Verificando:"
      ]
    },
    {
      "metadata": {
        "id": "wq5fr35pKEKp",
        "colab_type": "code",
        "outputId": "0048efe8-faaa-485a-c942-989ffaffe2ae",
        "colab": {
          "base_uri": "https://localhost:8080/",
          "height": 143
        }
      },
      "cell_type": "code",
      "source": [
        "Treino_t1.head(3)"
      ],
      "execution_count": 7,
      "outputs": [
        {
          "output_type": "execute_result",
          "data": {
            "text/html": [
              "<div>\n",
              "<style scoped>\n",
              "    .dataframe tbody tr th:only-of-type {\n",
              "        vertical-align: middle;\n",
              "    }\n",
              "\n",
              "    .dataframe tbody tr th {\n",
              "        vertical-align: top;\n",
              "    }\n",
              "\n",
              "    .dataframe thead th {\n",
              "        text-align: right;\n",
              "    }\n",
              "</style>\n",
              "<table border=\"1\" class=\"dataframe\">\n",
              "  <thead>\n",
              "    <tr style=\"text-align: right;\">\n",
              "      <th></th>\n",
              "      <th>PassengerId</th>\n",
              "      <th>Survived</th>\n",
              "      <th>Pclass</th>\n",
              "      <th>Sex</th>\n",
              "      <th>Age</th>\n",
              "      <th>SibSp</th>\n",
              "      <th>Parch</th>\n",
              "      <th>Fare</th>\n",
              "      <th>Embarked</th>\n",
              "    </tr>\n",
              "  </thead>\n",
              "  <tbody>\n",
              "    <tr>\n",
              "      <th>0</th>\n",
              "      <td>1</td>\n",
              "      <td>0</td>\n",
              "      <td>3</td>\n",
              "      <td>male</td>\n",
              "      <td>22.0</td>\n",
              "      <td>1</td>\n",
              "      <td>0</td>\n",
              "      <td>7.2500</td>\n",
              "      <td>S</td>\n",
              "    </tr>\n",
              "    <tr>\n",
              "      <th>1</th>\n",
              "      <td>2</td>\n",
              "      <td>1</td>\n",
              "      <td>1</td>\n",
              "      <td>female</td>\n",
              "      <td>38.0</td>\n",
              "      <td>1</td>\n",
              "      <td>0</td>\n",
              "      <td>71.2833</td>\n",
              "      <td>C</td>\n",
              "    </tr>\n",
              "    <tr>\n",
              "      <th>2</th>\n",
              "      <td>3</td>\n",
              "      <td>1</td>\n",
              "      <td>3</td>\n",
              "      <td>female</td>\n",
              "      <td>26.0</td>\n",
              "      <td>0</td>\n",
              "      <td>0</td>\n",
              "      <td>7.9250</td>\n",
              "      <td>S</td>\n",
              "    </tr>\n",
              "  </tbody>\n",
              "</table>\n",
              "</div>"
            ],
            "text/plain": [
              "   PassengerId  Survived  Pclass     Sex   Age  SibSp  Parch     Fare Embarked\n",
              "0            1         0       3    male  22.0      1      0   7.2500        S\n",
              "1            2         1       1  female  38.0      1      0  71.2833        C\n",
              "2            3         1       3  female  26.0      0      0   7.9250        S"
            ]
          },
          "metadata": {
            "tags": []
          },
          "execution_count": 7
        }
      ]
    },
    {
      "metadata": {
        "id": "zkwV9-n5KRnU",
        "colab_type": "code",
        "outputId": "d61b2495-8393-426c-bd97-ea8cdb5883ab",
        "colab": {
          "base_uri": "https://localhost:8080/",
          "height": 143
        }
      },
      "cell_type": "code",
      "source": [
        "Teste_t1.head(3)"
      ],
      "execution_count": 8,
      "outputs": [
        {
          "output_type": "execute_result",
          "data": {
            "text/html": [
              "<div>\n",
              "<style scoped>\n",
              "    .dataframe tbody tr th:only-of-type {\n",
              "        vertical-align: middle;\n",
              "    }\n",
              "\n",
              "    .dataframe tbody tr th {\n",
              "        vertical-align: top;\n",
              "    }\n",
              "\n",
              "    .dataframe thead th {\n",
              "        text-align: right;\n",
              "    }\n",
              "</style>\n",
              "<table border=\"1\" class=\"dataframe\">\n",
              "  <thead>\n",
              "    <tr style=\"text-align: right;\">\n",
              "      <th></th>\n",
              "      <th>PassengerId</th>\n",
              "      <th>Pclass</th>\n",
              "      <th>Sex</th>\n",
              "      <th>Age</th>\n",
              "      <th>SibSp</th>\n",
              "      <th>Parch</th>\n",
              "      <th>Fare</th>\n",
              "      <th>Embarked</th>\n",
              "    </tr>\n",
              "  </thead>\n",
              "  <tbody>\n",
              "    <tr>\n",
              "      <th>0</th>\n",
              "      <td>892</td>\n",
              "      <td>3</td>\n",
              "      <td>male</td>\n",
              "      <td>34.5</td>\n",
              "      <td>0</td>\n",
              "      <td>0</td>\n",
              "      <td>7.8292</td>\n",
              "      <td>Q</td>\n",
              "    </tr>\n",
              "    <tr>\n",
              "      <th>1</th>\n",
              "      <td>893</td>\n",
              "      <td>3</td>\n",
              "      <td>female</td>\n",
              "      <td>47.0</td>\n",
              "      <td>1</td>\n",
              "      <td>0</td>\n",
              "      <td>7.0000</td>\n",
              "      <td>S</td>\n",
              "    </tr>\n",
              "    <tr>\n",
              "      <th>2</th>\n",
              "      <td>894</td>\n",
              "      <td>2</td>\n",
              "      <td>male</td>\n",
              "      <td>62.0</td>\n",
              "      <td>0</td>\n",
              "      <td>0</td>\n",
              "      <td>9.6875</td>\n",
              "      <td>Q</td>\n",
              "    </tr>\n",
              "  </tbody>\n",
              "</table>\n",
              "</div>"
            ],
            "text/plain": [
              "   PassengerId  Pclass     Sex   Age  SibSp  Parch    Fare Embarked\n",
              "0          892       3    male  34.5      0      0  7.8292        Q\n",
              "1          893       3  female  47.0      1      0  7.0000        S\n",
              "2          894       2    male  62.0      0      0  9.6875        Q"
            ]
          },
          "metadata": {
            "tags": []
          },
          "execution_count": 8
        }
      ]
    },
    {
      "metadata": {
        "id": "n0X0wT-fFu1Q",
        "colab_type": "text"
      },
      "cell_type": "markdown",
      "source": [
        "###(T2)Transformando os valores categóricos em valores numéricos."
      ]
    },
    {
      "metadata": {
        "id": "hQPgcSE5IQE8",
        "colab_type": "text"
      },
      "cell_type": "markdown",
      "source": [
        "Mudando as variavéis \"Pclass\" e \"Embarked\" para o tipo categoria.\n",
        "\n"
      ]
    },
    {
      "metadata": {
        "id": "HVPcCZ_UJAIY",
        "colab_type": "code",
        "colab": {}
      },
      "cell_type": "code",
      "source": [
        "Treino_t2 = Treino_t1\n",
        "Teste_t2 = Teste_t1\n",
        "Treino_t2['Pclass'] = Treino_t2['Pclass'].astype('category')\n",
        "Teste_t2['Pclass'] = Teste_t2['Pclass'].astype('category')\n",
        "Treino_t2['Embarked'] = Treino_t2['Embarked'].astype('category')\n",
        "Teste_t2['Embarked'] = Teste_t2['Embarked'].astype('category')"
      ],
      "execution_count": 0,
      "outputs": []
    },
    {
      "metadata": {
        "id": "BSz-096rK1uA",
        "colab_type": "text"
      },
      "cell_type": "markdown",
      "source": [
        "Usando Get Dummies para transformar as categorias em valores binários."
      ]
    },
    {
      "metadata": {
        "id": "T7vcJaD9Kmac",
        "colab_type": "code",
        "colab": {}
      },
      "cell_type": "code",
      "source": [
        "Treino_t2 = pd.get_dummies(Treino_t2)\n",
        "Teste_t2 = pd.get_dummies(Teste_t1)"
      ],
      "execution_count": 0,
      "outputs": []
    },
    {
      "metadata": {
        "id": "gdFySPJlLGA_",
        "colab_type": "text"
      },
      "cell_type": "markdown",
      "source": [
        "Conferindo os datasets:"
      ]
    },
    {
      "metadata": {
        "id": "lzrmLeOoLFb2",
        "colab_type": "code",
        "outputId": "69b5fdf9-7d3f-4d56-a9ed-01587bd718d6",
        "colab": {
          "base_uri": "https://localhost:8080/",
          "height": 143
        }
      },
      "cell_type": "code",
      "source": [
        "Treino_t2.head(3)"
      ],
      "execution_count": 11,
      "outputs": [
        {
          "output_type": "execute_result",
          "data": {
            "text/html": [
              "<div>\n",
              "<style scoped>\n",
              "    .dataframe tbody tr th:only-of-type {\n",
              "        vertical-align: middle;\n",
              "    }\n",
              "\n",
              "    .dataframe tbody tr th {\n",
              "        vertical-align: top;\n",
              "    }\n",
              "\n",
              "    .dataframe thead th {\n",
              "        text-align: right;\n",
              "    }\n",
              "</style>\n",
              "<table border=\"1\" class=\"dataframe\">\n",
              "  <thead>\n",
              "    <tr style=\"text-align: right;\">\n",
              "      <th></th>\n",
              "      <th>PassengerId</th>\n",
              "      <th>Survived</th>\n",
              "      <th>Age</th>\n",
              "      <th>SibSp</th>\n",
              "      <th>Parch</th>\n",
              "      <th>Fare</th>\n",
              "      <th>Pclass_1</th>\n",
              "      <th>Pclass_2</th>\n",
              "      <th>Pclass_3</th>\n",
              "      <th>Sex_female</th>\n",
              "      <th>Sex_male</th>\n",
              "      <th>Embarked_C</th>\n",
              "      <th>Embarked_Q</th>\n",
              "      <th>Embarked_S</th>\n",
              "    </tr>\n",
              "  </thead>\n",
              "  <tbody>\n",
              "    <tr>\n",
              "      <th>0</th>\n",
              "      <td>1</td>\n",
              "      <td>0</td>\n",
              "      <td>22.0</td>\n",
              "      <td>1</td>\n",
              "      <td>0</td>\n",
              "      <td>7.2500</td>\n",
              "      <td>0</td>\n",
              "      <td>0</td>\n",
              "      <td>1</td>\n",
              "      <td>0</td>\n",
              "      <td>1</td>\n",
              "      <td>0</td>\n",
              "      <td>0</td>\n",
              "      <td>1</td>\n",
              "    </tr>\n",
              "    <tr>\n",
              "      <th>1</th>\n",
              "      <td>2</td>\n",
              "      <td>1</td>\n",
              "      <td>38.0</td>\n",
              "      <td>1</td>\n",
              "      <td>0</td>\n",
              "      <td>71.2833</td>\n",
              "      <td>1</td>\n",
              "      <td>0</td>\n",
              "      <td>0</td>\n",
              "      <td>1</td>\n",
              "      <td>0</td>\n",
              "      <td>1</td>\n",
              "      <td>0</td>\n",
              "      <td>0</td>\n",
              "    </tr>\n",
              "    <tr>\n",
              "      <th>2</th>\n",
              "      <td>3</td>\n",
              "      <td>1</td>\n",
              "      <td>26.0</td>\n",
              "      <td>0</td>\n",
              "      <td>0</td>\n",
              "      <td>7.9250</td>\n",
              "      <td>0</td>\n",
              "      <td>0</td>\n",
              "      <td>1</td>\n",
              "      <td>1</td>\n",
              "      <td>0</td>\n",
              "      <td>0</td>\n",
              "      <td>0</td>\n",
              "      <td>1</td>\n",
              "    </tr>\n",
              "  </tbody>\n",
              "</table>\n",
              "</div>"
            ],
            "text/plain": [
              "   PassengerId  Survived   Age  SibSp  Parch     Fare  Pclass_1  Pclass_2  \\\n",
              "0            1         0  22.0      1      0   7.2500         0         0   \n",
              "1            2         1  38.0      1      0  71.2833         1         0   \n",
              "2            3         1  26.0      0      0   7.9250         0         0   \n",
              "\n",
              "   Pclass_3  Sex_female  Sex_male  Embarked_C  Embarked_Q  Embarked_S  \n",
              "0         1           0         1           0           0           1  \n",
              "1         0           1         0           1           0           0  \n",
              "2         1           1         0           0           0           1  "
            ]
          },
          "metadata": {
            "tags": []
          },
          "execution_count": 11
        }
      ]
    },
    {
      "metadata": {
        "id": "9IdcAZ9oLOsS",
        "colab_type": "code",
        "outputId": "b587b2c1-6db7-4d9f-da55-1678fc97c113",
        "colab": {
          "base_uri": "https://localhost:8080/",
          "height": 143
        }
      },
      "cell_type": "code",
      "source": [
        "Teste_t2.head(3)"
      ],
      "execution_count": 12,
      "outputs": [
        {
          "output_type": "execute_result",
          "data": {
            "text/html": [
              "<div>\n",
              "<style scoped>\n",
              "    .dataframe tbody tr th:only-of-type {\n",
              "        vertical-align: middle;\n",
              "    }\n",
              "\n",
              "    .dataframe tbody tr th {\n",
              "        vertical-align: top;\n",
              "    }\n",
              "\n",
              "    .dataframe thead th {\n",
              "        text-align: right;\n",
              "    }\n",
              "</style>\n",
              "<table border=\"1\" class=\"dataframe\">\n",
              "  <thead>\n",
              "    <tr style=\"text-align: right;\">\n",
              "      <th></th>\n",
              "      <th>PassengerId</th>\n",
              "      <th>Age</th>\n",
              "      <th>SibSp</th>\n",
              "      <th>Parch</th>\n",
              "      <th>Fare</th>\n",
              "      <th>Pclass_1</th>\n",
              "      <th>Pclass_2</th>\n",
              "      <th>Pclass_3</th>\n",
              "      <th>Sex_female</th>\n",
              "      <th>Sex_male</th>\n",
              "      <th>Embarked_C</th>\n",
              "      <th>Embarked_Q</th>\n",
              "      <th>Embarked_S</th>\n",
              "    </tr>\n",
              "  </thead>\n",
              "  <tbody>\n",
              "    <tr>\n",
              "      <th>0</th>\n",
              "      <td>892</td>\n",
              "      <td>34.5</td>\n",
              "      <td>0</td>\n",
              "      <td>0</td>\n",
              "      <td>7.8292</td>\n",
              "      <td>0</td>\n",
              "      <td>0</td>\n",
              "      <td>1</td>\n",
              "      <td>0</td>\n",
              "      <td>1</td>\n",
              "      <td>0</td>\n",
              "      <td>1</td>\n",
              "      <td>0</td>\n",
              "    </tr>\n",
              "    <tr>\n",
              "      <th>1</th>\n",
              "      <td>893</td>\n",
              "      <td>47.0</td>\n",
              "      <td>1</td>\n",
              "      <td>0</td>\n",
              "      <td>7.0000</td>\n",
              "      <td>0</td>\n",
              "      <td>0</td>\n",
              "      <td>1</td>\n",
              "      <td>1</td>\n",
              "      <td>0</td>\n",
              "      <td>0</td>\n",
              "      <td>0</td>\n",
              "      <td>1</td>\n",
              "    </tr>\n",
              "    <tr>\n",
              "      <th>2</th>\n",
              "      <td>894</td>\n",
              "      <td>62.0</td>\n",
              "      <td>0</td>\n",
              "      <td>0</td>\n",
              "      <td>9.6875</td>\n",
              "      <td>0</td>\n",
              "      <td>1</td>\n",
              "      <td>0</td>\n",
              "      <td>0</td>\n",
              "      <td>1</td>\n",
              "      <td>0</td>\n",
              "      <td>1</td>\n",
              "      <td>0</td>\n",
              "    </tr>\n",
              "  </tbody>\n",
              "</table>\n",
              "</div>"
            ],
            "text/plain": [
              "   PassengerId   Age  SibSp  Parch    Fare  Pclass_1  Pclass_2  Pclass_3  \\\n",
              "0          892  34.5      0      0  7.8292         0         0         1   \n",
              "1          893  47.0      1      0  7.0000         0         0         1   \n",
              "2          894  62.0      0      0  9.6875         0         1         0   \n",
              "\n",
              "   Sex_female  Sex_male  Embarked_C  Embarked_Q  Embarked_S  \n",
              "0           0         1           0           1           0  \n",
              "1           1         0           0           0           1  \n",
              "2           0         1           0           1           0  "
            ]
          },
          "metadata": {
            "tags": []
          },
          "execution_count": 12
        }
      ]
    },
    {
      "metadata": {
        "id": "YAW6_SbFErqX",
        "colab_type": "text"
      },
      "cell_type": "markdown",
      "source": [
        "### (T3) Substituindo valores faltantes (NA)"
      ]
    },
    {
      "metadata": {
        "id": "kt9i0uVuFJ9I",
        "colab_type": "text"
      },
      "cell_type": "markdown",
      "source": [
        "Verificando onde existem valores Na no dataset de Treino:"
      ]
    },
    {
      "metadata": {
        "id": "Zdrcz_V-D-GU",
        "colab_type": "code",
        "outputId": "03b9ee4e-83b8-4d71-93a5-9685afce2b9d",
        "colab": {
          "base_uri": "https://localhost:8080/",
          "height": 293
        }
      },
      "cell_type": "code",
      "source": [
        "Treino_t2.isnull().sum().sort_values(ascending=False)"
      ],
      "execution_count": 13,
      "outputs": [
        {
          "output_type": "execute_result",
          "data": {
            "text/plain": [
              "Age            177\n",
              "Embarked_S       0\n",
              "Embarked_Q       0\n",
              "Embarked_C       0\n",
              "Sex_male         0\n",
              "Sex_female       0\n",
              "Pclass_3         0\n",
              "Pclass_2         0\n",
              "Pclass_1         0\n",
              "Fare             0\n",
              "Parch            0\n",
              "SibSp            0\n",
              "Survived         0\n",
              "PassengerId      0\n",
              "dtype: int64"
            ]
          },
          "metadata": {
            "tags": []
          },
          "execution_count": 13
        }
      ]
    },
    {
      "metadata": {
        "id": "l7odLZh4Lwe1",
        "colab_type": "text"
      },
      "cell_type": "markdown",
      "source": [
        "Substituindo os valores NA de idade pela média da idade dos passageiros: "
      ]
    },
    {
      "metadata": {
        "id": "FJdKMQiMFVvq",
        "colab_type": "code",
        "colab": {}
      },
      "cell_type": "code",
      "source": [
        "Treino_t3 = Treino_t2\n",
        "Treino_t3['Age'].fillna(Treino_t3['Age'].mean(), inplace=True)"
      ],
      "execution_count": 0,
      "outputs": []
    },
    {
      "metadata": {
        "id": "9fmpTkpFOgdu",
        "colab_type": "text"
      },
      "cell_type": "markdown",
      "source": [
        "Conferindo:"
      ]
    },
    {
      "metadata": {
        "id": "gPAC66wtOcxa",
        "colab_type": "code",
        "outputId": "141cc66c-bbe5-4335-808d-f4de3c653a50",
        "colab": {
          "base_uri": "https://localhost:8080/",
          "height": 293
        }
      },
      "cell_type": "code",
      "source": [
        "Treino_t3.isnull().sum().sort_values(ascending=False)"
      ],
      "execution_count": 15,
      "outputs": [
        {
          "output_type": "execute_result",
          "data": {
            "text/plain": [
              "Embarked_S     0\n",
              "Embarked_Q     0\n",
              "Embarked_C     0\n",
              "Sex_male       0\n",
              "Sex_female     0\n",
              "Pclass_3       0\n",
              "Pclass_2       0\n",
              "Pclass_1       0\n",
              "Fare           0\n",
              "Parch          0\n",
              "SibSp          0\n",
              "Age            0\n",
              "Survived       0\n",
              "PassengerId    0\n",
              "dtype: int64"
            ]
          },
          "metadata": {
            "tags": []
          },
          "execution_count": 15
        }
      ]
    },
    {
      "metadata": {
        "id": "alAc_-juMTRT",
        "colab_type": "text"
      },
      "cell_type": "markdown",
      "source": [
        "Verificando onde existem valores Na no dataset de Teste:\n"
      ]
    },
    {
      "metadata": {
        "id": "RQnMhRCxMOXu",
        "colab_type": "code",
        "outputId": "cd98cff9-951c-4413-ae6d-3e45573b3dda",
        "colab": {
          "base_uri": "https://localhost:8080/",
          "height": 274
        }
      },
      "cell_type": "code",
      "source": [
        "Teste_t2.isnull().sum().sort_values(ascending=False)"
      ],
      "execution_count": 16,
      "outputs": [
        {
          "output_type": "execute_result",
          "data": {
            "text/plain": [
              "Age            86\n",
              "Fare            1\n",
              "Embarked_S      0\n",
              "Embarked_Q      0\n",
              "Embarked_C      0\n",
              "Sex_male        0\n",
              "Sex_female      0\n",
              "Pclass_3        0\n",
              "Pclass_2        0\n",
              "Pclass_1        0\n",
              "Parch           0\n",
              "SibSp           0\n",
              "PassengerId     0\n",
              "dtype: int64"
            ]
          },
          "metadata": {
            "tags": []
          },
          "execution_count": 16
        }
      ]
    },
    {
      "metadata": {
        "id": "aSyMR9SON4iy",
        "colab_type": "text"
      },
      "cell_type": "markdown",
      "source": [
        "Substituindo os valores NA de idade pela média da idade dos passageiros e o valor da passagem faltante pela média também:"
      ]
    },
    {
      "metadata": {
        "id": "Ue341-BYNxyS",
        "colab_type": "code",
        "colab": {}
      },
      "cell_type": "code",
      "source": [
        "Teste_t3 = Teste_t2\n",
        "Teste_t3['Age'].fillna(Teste_t3['Age'].mean(), inplace=True)\n",
        "Teste_t3['Fare'].fillna(Teste_t3['Fare'].mean(), inplace=True)"
      ],
      "execution_count": 0,
      "outputs": []
    },
    {
      "metadata": {
        "id": "Y2xhus_bOjnm",
        "colab_type": "text"
      },
      "cell_type": "markdown",
      "source": [
        "Verificando a substituição:"
      ]
    },
    {
      "metadata": {
        "id": "tC5TfKw8Ooi4",
        "colab_type": "code",
        "outputId": "1b7f140d-b683-4b42-d03f-5358612fb703",
        "colab": {
          "base_uri": "https://localhost:8080/",
          "height": 293
        }
      },
      "cell_type": "code",
      "source": [
        "Treino_t3.isnull().sum().sort_values(ascending=False)"
      ],
      "execution_count": 18,
      "outputs": [
        {
          "output_type": "execute_result",
          "data": {
            "text/plain": [
              "Embarked_S     0\n",
              "Embarked_Q     0\n",
              "Embarked_C     0\n",
              "Sex_male       0\n",
              "Sex_female     0\n",
              "Pclass_3       0\n",
              "Pclass_2       0\n",
              "Pclass_1       0\n",
              "Fare           0\n",
              "Parch          0\n",
              "SibSp          0\n",
              "Age            0\n",
              "Survived       0\n",
              "PassengerId    0\n",
              "dtype: int64"
            ]
          },
          "metadata": {
            "tags": []
          },
          "execution_count": 18
        }
      ]
    },
    {
      "metadata": {
        "id": "UpDy5QqrQKOx",
        "colab_type": "text"
      },
      "cell_type": "markdown",
      "source": [
        "###(T4)Tratamento da variável Idade (Age)."
      ]
    },
    {
      "metadata": {
        "id": "HvFgzsA9Q3eA",
        "colab_type": "text"
      },
      "cell_type": "markdown",
      "source": [
        "Nesse momento vamos separar as idades em faixas etárias:\n",
        "\n",
        "\n",
        "* 0 a 12 = Criança\n",
        "* 13 a 20 = Joven\n",
        "* 21 a 59 = Adulto\n",
        "* 60 ou mais = Idoso\n",
        "\n"
      ]
    },
    {
      "metadata": {
        "id": "zoh_yaeKR3hG",
        "colab_type": "text"
      },
      "cell_type": "markdown",
      "source": [
        "Adicionando a coluna \"faixa_etaria\" aos datasets:\n"
      ]
    },
    {
      "metadata": {
        "id": "ea57AaNuOztj",
        "colab_type": "code",
        "colab": {}
      },
      "cell_type": "code",
      "source": [
        "Treino_t4 = Treino_t3\n",
        "Teste_t4 = Teste_t3\n",
        "Treino_t4['faixa_etaria'] = None\n",
        "Teste_t4['faixa_etaria'] = None"
      ],
      "execution_count": 0,
      "outputs": []
    },
    {
      "metadata": {
        "id": "F59pIWKiSLdA",
        "colab_type": "text"
      },
      "cell_type": "markdown",
      "source": [
        "Passando a \"Age\" para o tipo inteiro e alimentando a \"faixa_etaria\" com valores:"
      ]
    },
    {
      "metadata": {
        "id": "dc4NTgQ5SGv-",
        "colab_type": "code",
        "colab": {}
      },
      "cell_type": "code",
      "source": [
        "Treino_t4['Age'] = Treino_t4['Age'].astype(int)\n",
        "Teste_t4['Age'] = Teste_t4['Age'].astype(int)\n",
        "\n",
        "Treino_t4.loc[(0 <= Treino_t4.Age) & (Treino_t4.Age < 13), 'faixa_etaria'] = 'criança'\n",
        "Treino_t4.loc[(13 <= Treino_t4.Age) & (Treino_t4.Age < 21), 'faixa_etaria'] = 'jovem'\n",
        "Treino_t4.loc[(21 <= Treino_t4.Age) & (Treino_t4.Age < 60), 'faixa_etaria'] = 'adulto'\n",
        "Treino_t4.loc[(60 <= Treino_t4.Age), 'faixa_etaria'] = 'idoso'\n",
        "\n",
        "Teste_t4.loc[(0 <= Teste_t4.Age) & (Teste_t4.Age < 13), 'faixa_etaria'] = 'criança'\n",
        "Teste_t4.loc[(13 <= Teste_t4.Age) & (Teste_t4.Age < 21), 'faixa_etaria'] = 'jovem'\n",
        "Teste_t4.loc[(21 <= Teste_t4.Age) & (Teste_t4.Age < 60), 'faixa_etaria'] = 'adulto'\n",
        "Teste_t4.loc[(60 <= Teste_t4.Age), 'faixa_etaria'] = 'idoso'"
      ],
      "execution_count": 0,
      "outputs": []
    },
    {
      "metadata": {
        "id": "HxmiyEf7T8Q8",
        "colab_type": "text"
      },
      "cell_type": "markdown",
      "source": [
        "Eliminando a \"Age\":"
      ]
    },
    {
      "metadata": {
        "id": "qcw2aHnmTMgJ",
        "colab_type": "code",
        "colab": {}
      },
      "cell_type": "code",
      "source": [
        "Treino_t4 = Treino_t4.drop('Age', axis=1)\n",
        "Teste_t4 = Teste_t4.drop('Age', axis=1)"
      ],
      "execution_count": 0,
      "outputs": []
    },
    {
      "metadata": {
        "id": "l_l8C9qUUtkE",
        "colab_type": "text"
      },
      "cell_type": "markdown",
      "source": [
        "Conferindo os datasets:"
      ]
    },
    {
      "metadata": {
        "id": "O9-_pdfAUcEp",
        "colab_type": "code",
        "outputId": "b002d991-ebb8-4964-f902-e0d65014b045",
        "colab": {
          "base_uri": "https://localhost:8080/",
          "height": 163
        }
      },
      "cell_type": "code",
      "source": [
        "Treino_t4.head(3)"
      ],
      "execution_count": 22,
      "outputs": [
        {
          "output_type": "execute_result",
          "data": {
            "text/html": [
              "<div>\n",
              "<style scoped>\n",
              "    .dataframe tbody tr th:only-of-type {\n",
              "        vertical-align: middle;\n",
              "    }\n",
              "\n",
              "    .dataframe tbody tr th {\n",
              "        vertical-align: top;\n",
              "    }\n",
              "\n",
              "    .dataframe thead th {\n",
              "        text-align: right;\n",
              "    }\n",
              "</style>\n",
              "<table border=\"1\" class=\"dataframe\">\n",
              "  <thead>\n",
              "    <tr style=\"text-align: right;\">\n",
              "      <th></th>\n",
              "      <th>PassengerId</th>\n",
              "      <th>Survived</th>\n",
              "      <th>SibSp</th>\n",
              "      <th>Parch</th>\n",
              "      <th>Fare</th>\n",
              "      <th>Pclass_1</th>\n",
              "      <th>Pclass_2</th>\n",
              "      <th>Pclass_3</th>\n",
              "      <th>Sex_female</th>\n",
              "      <th>Sex_male</th>\n",
              "      <th>Embarked_C</th>\n",
              "      <th>Embarked_Q</th>\n",
              "      <th>Embarked_S</th>\n",
              "      <th>faixa_etaria</th>\n",
              "    </tr>\n",
              "  </thead>\n",
              "  <tbody>\n",
              "    <tr>\n",
              "      <th>0</th>\n",
              "      <td>1</td>\n",
              "      <td>0</td>\n",
              "      <td>1</td>\n",
              "      <td>0</td>\n",
              "      <td>7.2500</td>\n",
              "      <td>0</td>\n",
              "      <td>0</td>\n",
              "      <td>1</td>\n",
              "      <td>0</td>\n",
              "      <td>1</td>\n",
              "      <td>0</td>\n",
              "      <td>0</td>\n",
              "      <td>1</td>\n",
              "      <td>adulto</td>\n",
              "    </tr>\n",
              "    <tr>\n",
              "      <th>1</th>\n",
              "      <td>2</td>\n",
              "      <td>1</td>\n",
              "      <td>1</td>\n",
              "      <td>0</td>\n",
              "      <td>71.2833</td>\n",
              "      <td>1</td>\n",
              "      <td>0</td>\n",
              "      <td>0</td>\n",
              "      <td>1</td>\n",
              "      <td>0</td>\n",
              "      <td>1</td>\n",
              "      <td>0</td>\n",
              "      <td>0</td>\n",
              "      <td>adulto</td>\n",
              "    </tr>\n",
              "    <tr>\n",
              "      <th>2</th>\n",
              "      <td>3</td>\n",
              "      <td>1</td>\n",
              "      <td>0</td>\n",
              "      <td>0</td>\n",
              "      <td>7.9250</td>\n",
              "      <td>0</td>\n",
              "      <td>0</td>\n",
              "      <td>1</td>\n",
              "      <td>1</td>\n",
              "      <td>0</td>\n",
              "      <td>0</td>\n",
              "      <td>0</td>\n",
              "      <td>1</td>\n",
              "      <td>adulto</td>\n",
              "    </tr>\n",
              "  </tbody>\n",
              "</table>\n",
              "</div>"
            ],
            "text/plain": [
              "   PassengerId  Survived  SibSp  Parch     Fare  Pclass_1  Pclass_2  Pclass_3  \\\n",
              "0            1         0      1      0   7.2500         0         0         1   \n",
              "1            2         1      1      0  71.2833         1         0         0   \n",
              "2            3         1      0      0   7.9250         0         0         1   \n",
              "\n",
              "   Sex_female  Sex_male  Embarked_C  Embarked_Q  Embarked_S faixa_etaria  \n",
              "0           0         1           0           0           1       adulto  \n",
              "1           1         0           1           0           0       adulto  \n",
              "2           1         0           0           0           1       adulto  "
            ]
          },
          "metadata": {
            "tags": []
          },
          "execution_count": 22
        }
      ]
    },
    {
      "metadata": {
        "id": "V4L5sbKKUgMo",
        "colab_type": "code",
        "outputId": "9f97255d-479f-4444-f50d-edff38bf74da",
        "colab": {
          "base_uri": "https://localhost:8080/",
          "height": 143
        }
      },
      "cell_type": "code",
      "source": [
        "Teste_t4.head(3)"
      ],
      "execution_count": 23,
      "outputs": [
        {
          "output_type": "execute_result",
          "data": {
            "text/html": [
              "<div>\n",
              "<style scoped>\n",
              "    .dataframe tbody tr th:only-of-type {\n",
              "        vertical-align: middle;\n",
              "    }\n",
              "\n",
              "    .dataframe tbody tr th {\n",
              "        vertical-align: top;\n",
              "    }\n",
              "\n",
              "    .dataframe thead th {\n",
              "        text-align: right;\n",
              "    }\n",
              "</style>\n",
              "<table border=\"1\" class=\"dataframe\">\n",
              "  <thead>\n",
              "    <tr style=\"text-align: right;\">\n",
              "      <th></th>\n",
              "      <th>PassengerId</th>\n",
              "      <th>SibSp</th>\n",
              "      <th>Parch</th>\n",
              "      <th>Fare</th>\n",
              "      <th>Pclass_1</th>\n",
              "      <th>Pclass_2</th>\n",
              "      <th>Pclass_3</th>\n",
              "      <th>Sex_female</th>\n",
              "      <th>Sex_male</th>\n",
              "      <th>Embarked_C</th>\n",
              "      <th>Embarked_Q</th>\n",
              "      <th>Embarked_S</th>\n",
              "      <th>faixa_etaria</th>\n",
              "    </tr>\n",
              "  </thead>\n",
              "  <tbody>\n",
              "    <tr>\n",
              "      <th>0</th>\n",
              "      <td>892</td>\n",
              "      <td>0</td>\n",
              "      <td>0</td>\n",
              "      <td>7.8292</td>\n",
              "      <td>0</td>\n",
              "      <td>0</td>\n",
              "      <td>1</td>\n",
              "      <td>0</td>\n",
              "      <td>1</td>\n",
              "      <td>0</td>\n",
              "      <td>1</td>\n",
              "      <td>0</td>\n",
              "      <td>adulto</td>\n",
              "    </tr>\n",
              "    <tr>\n",
              "      <th>1</th>\n",
              "      <td>893</td>\n",
              "      <td>1</td>\n",
              "      <td>0</td>\n",
              "      <td>7.0000</td>\n",
              "      <td>0</td>\n",
              "      <td>0</td>\n",
              "      <td>1</td>\n",
              "      <td>1</td>\n",
              "      <td>0</td>\n",
              "      <td>0</td>\n",
              "      <td>0</td>\n",
              "      <td>1</td>\n",
              "      <td>adulto</td>\n",
              "    </tr>\n",
              "    <tr>\n",
              "      <th>2</th>\n",
              "      <td>894</td>\n",
              "      <td>0</td>\n",
              "      <td>0</td>\n",
              "      <td>9.6875</td>\n",
              "      <td>0</td>\n",
              "      <td>1</td>\n",
              "      <td>0</td>\n",
              "      <td>0</td>\n",
              "      <td>1</td>\n",
              "      <td>0</td>\n",
              "      <td>1</td>\n",
              "      <td>0</td>\n",
              "      <td>idoso</td>\n",
              "    </tr>\n",
              "  </tbody>\n",
              "</table>\n",
              "</div>"
            ],
            "text/plain": [
              "   PassengerId  SibSp  Parch    Fare  Pclass_1  Pclass_2  Pclass_3  \\\n",
              "0          892      0      0  7.8292         0         0         1   \n",
              "1          893      1      0  7.0000         0         0         1   \n",
              "2          894      0      0  9.6875         0         1         0   \n",
              "\n",
              "   Sex_female  Sex_male  Embarked_C  Embarked_Q  Embarked_S faixa_etaria  \n",
              "0           0         1           0           1           0       adulto  \n",
              "1           1         0           0           0           1       adulto  \n",
              "2           0         1           0           1           0        idoso  "
            ]
          },
          "metadata": {
            "tags": []
          },
          "execution_count": 23
        }
      ]
    },
    {
      "metadata": {
        "id": "Z2jjcupDU8hl",
        "colab_type": "text"
      },
      "cell_type": "markdown",
      "source": [
        "Fazendo novamente o get Dummies para transformar a faixa etária em valores numéricos:"
      ]
    },
    {
      "metadata": {
        "id": "Q8lh61CzVH2t",
        "colab_type": "code",
        "colab": {}
      },
      "cell_type": "code",
      "source": [
        "Treino_t4 = pd.get_dummies(Treino_t4)\n",
        "Teste_t4 = pd.get_dummies(Teste_t4)"
      ],
      "execution_count": 0,
      "outputs": []
    },
    {
      "metadata": {
        "id": "RqR4Q7xDVfpv",
        "colab_type": "text"
      },
      "cell_type": "markdown",
      "source": [
        "Vendo como ficou nossos datasets após esses tratamentos:"
      ]
    },
    {
      "metadata": {
        "id": "4Ipv2swbVPPO",
        "colab_type": "code",
        "outputId": "95474011-e801-499c-d168-c3db71f425cd",
        "colab": {
          "base_uri": "https://localhost:8080/",
          "height": 226
        }
      },
      "cell_type": "code",
      "source": [
        "Treino_t4.head()"
      ],
      "execution_count": 25,
      "outputs": [
        {
          "output_type": "execute_result",
          "data": {
            "text/html": [
              "<div>\n",
              "<style scoped>\n",
              "    .dataframe tbody tr th:only-of-type {\n",
              "        vertical-align: middle;\n",
              "    }\n",
              "\n",
              "    .dataframe tbody tr th {\n",
              "        vertical-align: top;\n",
              "    }\n",
              "\n",
              "    .dataframe thead th {\n",
              "        text-align: right;\n",
              "    }\n",
              "</style>\n",
              "<table border=\"1\" class=\"dataframe\">\n",
              "  <thead>\n",
              "    <tr style=\"text-align: right;\">\n",
              "      <th></th>\n",
              "      <th>PassengerId</th>\n",
              "      <th>Survived</th>\n",
              "      <th>SibSp</th>\n",
              "      <th>Parch</th>\n",
              "      <th>Fare</th>\n",
              "      <th>Pclass_1</th>\n",
              "      <th>Pclass_2</th>\n",
              "      <th>Pclass_3</th>\n",
              "      <th>Sex_female</th>\n",
              "      <th>Sex_male</th>\n",
              "      <th>Embarked_C</th>\n",
              "      <th>Embarked_Q</th>\n",
              "      <th>Embarked_S</th>\n",
              "      <th>faixa_etaria_adulto</th>\n",
              "      <th>faixa_etaria_criança</th>\n",
              "      <th>faixa_etaria_idoso</th>\n",
              "      <th>faixa_etaria_jovem</th>\n",
              "    </tr>\n",
              "  </thead>\n",
              "  <tbody>\n",
              "    <tr>\n",
              "      <th>0</th>\n",
              "      <td>1</td>\n",
              "      <td>0</td>\n",
              "      <td>1</td>\n",
              "      <td>0</td>\n",
              "      <td>7.2500</td>\n",
              "      <td>0</td>\n",
              "      <td>0</td>\n",
              "      <td>1</td>\n",
              "      <td>0</td>\n",
              "      <td>1</td>\n",
              "      <td>0</td>\n",
              "      <td>0</td>\n",
              "      <td>1</td>\n",
              "      <td>1</td>\n",
              "      <td>0</td>\n",
              "      <td>0</td>\n",
              "      <td>0</td>\n",
              "    </tr>\n",
              "    <tr>\n",
              "      <th>1</th>\n",
              "      <td>2</td>\n",
              "      <td>1</td>\n",
              "      <td>1</td>\n",
              "      <td>0</td>\n",
              "      <td>71.2833</td>\n",
              "      <td>1</td>\n",
              "      <td>0</td>\n",
              "      <td>0</td>\n",
              "      <td>1</td>\n",
              "      <td>0</td>\n",
              "      <td>1</td>\n",
              "      <td>0</td>\n",
              "      <td>0</td>\n",
              "      <td>1</td>\n",
              "      <td>0</td>\n",
              "      <td>0</td>\n",
              "      <td>0</td>\n",
              "    </tr>\n",
              "    <tr>\n",
              "      <th>2</th>\n",
              "      <td>3</td>\n",
              "      <td>1</td>\n",
              "      <td>0</td>\n",
              "      <td>0</td>\n",
              "      <td>7.9250</td>\n",
              "      <td>0</td>\n",
              "      <td>0</td>\n",
              "      <td>1</td>\n",
              "      <td>1</td>\n",
              "      <td>0</td>\n",
              "      <td>0</td>\n",
              "      <td>0</td>\n",
              "      <td>1</td>\n",
              "      <td>1</td>\n",
              "      <td>0</td>\n",
              "      <td>0</td>\n",
              "      <td>0</td>\n",
              "    </tr>\n",
              "    <tr>\n",
              "      <th>3</th>\n",
              "      <td>4</td>\n",
              "      <td>1</td>\n",
              "      <td>1</td>\n",
              "      <td>0</td>\n",
              "      <td>53.1000</td>\n",
              "      <td>1</td>\n",
              "      <td>0</td>\n",
              "      <td>0</td>\n",
              "      <td>1</td>\n",
              "      <td>0</td>\n",
              "      <td>0</td>\n",
              "      <td>0</td>\n",
              "      <td>1</td>\n",
              "      <td>1</td>\n",
              "      <td>0</td>\n",
              "      <td>0</td>\n",
              "      <td>0</td>\n",
              "    </tr>\n",
              "    <tr>\n",
              "      <th>4</th>\n",
              "      <td>5</td>\n",
              "      <td>0</td>\n",
              "      <td>0</td>\n",
              "      <td>0</td>\n",
              "      <td>8.0500</td>\n",
              "      <td>0</td>\n",
              "      <td>0</td>\n",
              "      <td>1</td>\n",
              "      <td>0</td>\n",
              "      <td>1</td>\n",
              "      <td>0</td>\n",
              "      <td>0</td>\n",
              "      <td>1</td>\n",
              "      <td>1</td>\n",
              "      <td>0</td>\n",
              "      <td>0</td>\n",
              "      <td>0</td>\n",
              "    </tr>\n",
              "  </tbody>\n",
              "</table>\n",
              "</div>"
            ],
            "text/plain": [
              "   PassengerId  Survived  SibSp  Parch     Fare  Pclass_1  Pclass_2  Pclass_3  \\\n",
              "0            1         0      1      0   7.2500         0         0         1   \n",
              "1            2         1      1      0  71.2833         1         0         0   \n",
              "2            3         1      0      0   7.9250         0         0         1   \n",
              "3            4         1      1      0  53.1000         1         0         0   \n",
              "4            5         0      0      0   8.0500         0         0         1   \n",
              "\n",
              "   Sex_female  Sex_male  Embarked_C  Embarked_Q  Embarked_S  \\\n",
              "0           0         1           0           0           1   \n",
              "1           1         0           1           0           0   \n",
              "2           1         0           0           0           1   \n",
              "3           1         0           0           0           1   \n",
              "4           0         1           0           0           1   \n",
              "\n",
              "   faixa_etaria_adulto  faixa_etaria_criança  faixa_etaria_idoso  \\\n",
              "0                    1                     0                   0   \n",
              "1                    1                     0                   0   \n",
              "2                    1                     0                   0   \n",
              "3                    1                     0                   0   \n",
              "4                    1                     0                   0   \n",
              "\n",
              "   faixa_etaria_jovem  \n",
              "0                   0  \n",
              "1                   0  \n",
              "2                   0  \n",
              "3                   0  \n",
              "4                   0  "
            ]
          },
          "metadata": {
            "tags": []
          },
          "execution_count": 25
        }
      ]
    },
    {
      "metadata": {
        "id": "HZtAry4jVknk",
        "colab_type": "code",
        "outputId": "1cd97c41-30ed-4fd5-ef3c-549ea4ff36f3",
        "colab": {
          "base_uri": "https://localhost:8080/",
          "height": 226
        }
      },
      "cell_type": "code",
      "source": [
        "Teste_t4.head()"
      ],
      "execution_count": 26,
      "outputs": [
        {
          "output_type": "execute_result",
          "data": {
            "text/html": [
              "<div>\n",
              "<style scoped>\n",
              "    .dataframe tbody tr th:only-of-type {\n",
              "        vertical-align: middle;\n",
              "    }\n",
              "\n",
              "    .dataframe tbody tr th {\n",
              "        vertical-align: top;\n",
              "    }\n",
              "\n",
              "    .dataframe thead th {\n",
              "        text-align: right;\n",
              "    }\n",
              "</style>\n",
              "<table border=\"1\" class=\"dataframe\">\n",
              "  <thead>\n",
              "    <tr style=\"text-align: right;\">\n",
              "      <th></th>\n",
              "      <th>PassengerId</th>\n",
              "      <th>SibSp</th>\n",
              "      <th>Parch</th>\n",
              "      <th>Fare</th>\n",
              "      <th>Pclass_1</th>\n",
              "      <th>Pclass_2</th>\n",
              "      <th>Pclass_3</th>\n",
              "      <th>Sex_female</th>\n",
              "      <th>Sex_male</th>\n",
              "      <th>Embarked_C</th>\n",
              "      <th>Embarked_Q</th>\n",
              "      <th>Embarked_S</th>\n",
              "      <th>faixa_etaria_adulto</th>\n",
              "      <th>faixa_etaria_criança</th>\n",
              "      <th>faixa_etaria_idoso</th>\n",
              "      <th>faixa_etaria_jovem</th>\n",
              "    </tr>\n",
              "  </thead>\n",
              "  <tbody>\n",
              "    <tr>\n",
              "      <th>0</th>\n",
              "      <td>892</td>\n",
              "      <td>0</td>\n",
              "      <td>0</td>\n",
              "      <td>7.8292</td>\n",
              "      <td>0</td>\n",
              "      <td>0</td>\n",
              "      <td>1</td>\n",
              "      <td>0</td>\n",
              "      <td>1</td>\n",
              "      <td>0</td>\n",
              "      <td>1</td>\n",
              "      <td>0</td>\n",
              "      <td>1</td>\n",
              "      <td>0</td>\n",
              "      <td>0</td>\n",
              "      <td>0</td>\n",
              "    </tr>\n",
              "    <tr>\n",
              "      <th>1</th>\n",
              "      <td>893</td>\n",
              "      <td>1</td>\n",
              "      <td>0</td>\n",
              "      <td>7.0000</td>\n",
              "      <td>0</td>\n",
              "      <td>0</td>\n",
              "      <td>1</td>\n",
              "      <td>1</td>\n",
              "      <td>0</td>\n",
              "      <td>0</td>\n",
              "      <td>0</td>\n",
              "      <td>1</td>\n",
              "      <td>1</td>\n",
              "      <td>0</td>\n",
              "      <td>0</td>\n",
              "      <td>0</td>\n",
              "    </tr>\n",
              "    <tr>\n",
              "      <th>2</th>\n",
              "      <td>894</td>\n",
              "      <td>0</td>\n",
              "      <td>0</td>\n",
              "      <td>9.6875</td>\n",
              "      <td>0</td>\n",
              "      <td>1</td>\n",
              "      <td>0</td>\n",
              "      <td>0</td>\n",
              "      <td>1</td>\n",
              "      <td>0</td>\n",
              "      <td>1</td>\n",
              "      <td>0</td>\n",
              "      <td>0</td>\n",
              "      <td>0</td>\n",
              "      <td>1</td>\n",
              "      <td>0</td>\n",
              "    </tr>\n",
              "    <tr>\n",
              "      <th>3</th>\n",
              "      <td>895</td>\n",
              "      <td>0</td>\n",
              "      <td>0</td>\n",
              "      <td>8.6625</td>\n",
              "      <td>0</td>\n",
              "      <td>0</td>\n",
              "      <td>1</td>\n",
              "      <td>0</td>\n",
              "      <td>1</td>\n",
              "      <td>0</td>\n",
              "      <td>0</td>\n",
              "      <td>1</td>\n",
              "      <td>1</td>\n",
              "      <td>0</td>\n",
              "      <td>0</td>\n",
              "      <td>0</td>\n",
              "    </tr>\n",
              "    <tr>\n",
              "      <th>4</th>\n",
              "      <td>896</td>\n",
              "      <td>1</td>\n",
              "      <td>1</td>\n",
              "      <td>12.2875</td>\n",
              "      <td>0</td>\n",
              "      <td>0</td>\n",
              "      <td>1</td>\n",
              "      <td>1</td>\n",
              "      <td>0</td>\n",
              "      <td>0</td>\n",
              "      <td>0</td>\n",
              "      <td>1</td>\n",
              "      <td>1</td>\n",
              "      <td>0</td>\n",
              "      <td>0</td>\n",
              "      <td>0</td>\n",
              "    </tr>\n",
              "  </tbody>\n",
              "</table>\n",
              "</div>"
            ],
            "text/plain": [
              "   PassengerId  SibSp  Parch     Fare  Pclass_1  Pclass_2  Pclass_3  \\\n",
              "0          892      0      0   7.8292         0         0         1   \n",
              "1          893      1      0   7.0000         0         0         1   \n",
              "2          894      0      0   9.6875         0         1         0   \n",
              "3          895      0      0   8.6625         0         0         1   \n",
              "4          896      1      1  12.2875         0         0         1   \n",
              "\n",
              "   Sex_female  Sex_male  Embarked_C  Embarked_Q  Embarked_S  \\\n",
              "0           0         1           0           1           0   \n",
              "1           1         0           0           0           1   \n",
              "2           0         1           0           1           0   \n",
              "3           0         1           0           0           1   \n",
              "4           1         0           0           0           1   \n",
              "\n",
              "   faixa_etaria_adulto  faixa_etaria_criança  faixa_etaria_idoso  \\\n",
              "0                    1                     0                   0   \n",
              "1                    1                     0                   0   \n",
              "2                    0                     0                   1   \n",
              "3                    1                     0                   0   \n",
              "4                    1                     0                   0   \n",
              "\n",
              "   faixa_etaria_jovem  \n",
              "0                   0  \n",
              "1                   0  \n",
              "2                   0  \n",
              "3                   0  \n",
              "4                   0  "
            ]
          },
          "metadata": {
            "tags": []
          },
          "execution_count": 26
        }
      ]
    },
    {
      "metadata": {
        "id": "LSg4UeeEv9Xk",
        "colab_type": "text"
      },
      "cell_type": "markdown",
      "source": [
        "***"
      ]
    },
    {
      "metadata": {
        "id": "j_-dhpR5XmI8",
        "colab_type": "text"
      },
      "cell_type": "markdown",
      "source": [
        "##Uma breve análise"
      ]
    },
    {
      "metadata": {
        "id": "SiRtti9fYCQv",
        "colab_type": "text"
      },
      "cell_type": "markdown",
      "source": [
        "Antes de criarmos nosso modelo preditivo, vamos entender um pouco o que aconteceu com os passageiros do nosso dataset de treino:"
      ]
    },
    {
      "metadata": {
        "id": "SONtFxprZDHt",
        "colab_type": "code",
        "outputId": "ed273c91-8bfa-4ac9-8120-2a68348e9a98",
        "colab": {
          "base_uri": "https://localhost:8080/",
          "height": 35
        }
      },
      "cell_type": "code",
      "source": [
        "Total_de_passageiros = len(Treino_t4['Survived'])\n",
        "Sobreviveram = len(Treino_t4.query(\"Survived == 1\"))\n",
        "Nao_sobreviveram = len(Treino_t4.query(\"Survived == 0\"))\n",
        "\n",
        "print(\"Dos %r passageiros desse dataset, %s sobreviveram e %d morreram no acidente.\" \n",
        "      %(Total_de_passageiros, Sobreviveram, Nao_sobreviveram))\n"
      ],
      "execution_count": 27,
      "outputs": [
        {
          "output_type": "stream",
          "text": [
            "Dos 891 passageiros desse dataset, 342 sobreviveram e 549 morreram no acidente.\n"
          ],
          "name": "stdout"
        }
      ]
    },
    {
      "metadata": {
        "id": "e2BYsKwBceP2",
        "colab_type": "text"
      },
      "cell_type": "markdown",
      "source": [
        "Análise de sobrevivencia ou não com base nas variáveis:"
      ]
    },
    {
      "metadata": {
        "id": "Ohg5eWC_Vl8p",
        "colab_type": "code",
        "outputId": "c68f106f-049f-443e-9923-70d15b667557",
        "colab": {
          "base_uri": "https://localhost:8080/",
          "height": 132
        }
      },
      "cell_type": "code",
      "source": [
        "analise = pd.DataFrame(Treino_t4.groupby(['Survived']).sum()).reset_index()\n",
        "analise['Survived'] =analise['Survived'].replace(0, 'Morreu')\n",
        "analise['Survived'] =analise['Survived'].replace(1, 'Sobreviveu')\n",
        "analise\n"
      ],
      "execution_count": 28,
      "outputs": [
        {
          "output_type": "execute_result",
          "data": {
            "text/html": [
              "<div>\n",
              "<style scoped>\n",
              "    .dataframe tbody tr th:only-of-type {\n",
              "        vertical-align: middle;\n",
              "    }\n",
              "\n",
              "    .dataframe tbody tr th {\n",
              "        vertical-align: top;\n",
              "    }\n",
              "\n",
              "    .dataframe thead th {\n",
              "        text-align: right;\n",
              "    }\n",
              "</style>\n",
              "<table border=\"1\" class=\"dataframe\">\n",
              "  <thead>\n",
              "    <tr style=\"text-align: right;\">\n",
              "      <th></th>\n",
              "      <th>Survived</th>\n",
              "      <th>PassengerId</th>\n",
              "      <th>SibSp</th>\n",
              "      <th>Parch</th>\n",
              "      <th>Fare</th>\n",
              "      <th>Pclass_1</th>\n",
              "      <th>Pclass_2</th>\n",
              "      <th>Pclass_3</th>\n",
              "      <th>Sex_female</th>\n",
              "      <th>Sex_male</th>\n",
              "      <th>Embarked_C</th>\n",
              "      <th>Embarked_Q</th>\n",
              "      <th>Embarked_S</th>\n",
              "      <th>faixa_etaria_adulto</th>\n",
              "      <th>faixa_etaria_criança</th>\n",
              "      <th>faixa_etaria_idoso</th>\n",
              "      <th>faixa_etaria_jovem</th>\n",
              "    </tr>\n",
              "  </thead>\n",
              "  <tbody>\n",
              "    <tr>\n",
              "      <th>0</th>\n",
              "      <td>Morreu</td>\n",
              "      <td>245412</td>\n",
              "      <td>304</td>\n",
              "      <td>181</td>\n",
              "      <td>12142.7199</td>\n",
              "      <td>80.0</td>\n",
              "      <td>97.0</td>\n",
              "      <td>372.0</td>\n",
              "      <td>81.0</td>\n",
              "      <td>468.0</td>\n",
              "      <td>75.0</td>\n",
              "      <td>47.0</td>\n",
              "      <td>427.0</td>\n",
              "      <td>432.0</td>\n",
              "      <td>29.0</td>\n",
              "      <td>19.0</td>\n",
              "      <td>69.0</td>\n",
              "    </tr>\n",
              "    <tr>\n",
              "      <th>1</th>\n",
              "      <td>Sobreviveu</td>\n",
              "      <td>151974</td>\n",
              "      <td>162</td>\n",
              "      <td>159</td>\n",
              "      <td>16551.2294</td>\n",
              "      <td>136.0</td>\n",
              "      <td>87.0</td>\n",
              "      <td>119.0</td>\n",
              "      <td>233.0</td>\n",
              "      <td>109.0</td>\n",
              "      <td>93.0</td>\n",
              "      <td>30.0</td>\n",
              "      <td>217.0</td>\n",
              "      <td>253.0</td>\n",
              "      <td>40.0</td>\n",
              "      <td>7.0</td>\n",
              "      <td>42.0</td>\n",
              "    </tr>\n",
              "  </tbody>\n",
              "</table>\n",
              "</div>"
            ],
            "text/plain": [
              "     Survived  PassengerId  SibSp  Parch        Fare  Pclass_1  Pclass_2  \\\n",
              "0      Morreu       245412    304    181  12142.7199      80.0      97.0   \n",
              "1  Sobreviveu       151974    162    159  16551.2294     136.0      87.0   \n",
              "\n",
              "   Pclass_3  Sex_female  Sex_male  Embarked_C  Embarked_Q  Embarked_S  \\\n",
              "0     372.0        81.0     468.0        75.0        47.0       427.0   \n",
              "1     119.0       233.0     109.0        93.0        30.0       217.0   \n",
              "\n",
              "   faixa_etaria_adulto  faixa_etaria_criança  faixa_etaria_idoso  \\\n",
              "0                432.0                  29.0                19.0   \n",
              "1                253.0                  40.0                 7.0   \n",
              "\n",
              "   faixa_etaria_jovem  \n",
              "0                69.0  \n",
              "1                42.0  "
            ]
          },
          "metadata": {
            "tags": []
          },
          "execution_count": 28
        }
      ]
    },
    {
      "metadata": {
        "id": "CQmid1xNdc01",
        "colab_type": "text"
      },
      "cell_type": "markdown",
      "source": [
        "###Visualização da análise com gráficos:"
      ]
    },
    {
      "metadata": {
        "id": "O-vTfGyLesxE",
        "colab_type": "text"
      },
      "cell_type": "markdown",
      "source": [
        "Importando bibliotecas necessárias para criar os gráficos:"
      ]
    },
    {
      "metadata": {
        "id": "w9ydLtXkYiB5",
        "colab_type": "code",
        "outputId": "3469be2a-1ae7-41b4-bc24-1336a62e8597",
        "colab": {
          "base_uri": "https://localhost:8080/",
          "height": 257
        }
      },
      "cell_type": "code",
      "source": [
        "!pip install seaborn==0.9.0\n",
        "import seaborn as sns\n",
        "import matplotlib.pyplot as plt\n",
        "import numpy as np"
      ],
      "execution_count": 29,
      "outputs": [
        {
          "output_type": "stream",
          "text": [
            "Requirement already satisfied: seaborn==0.9.0 in /usr/local/lib/python3.6/dist-packages (0.9.0)\n",
            "Requirement already satisfied: scipy>=0.14.0 in /usr/local/lib/python3.6/dist-packages (from seaborn==0.9.0) (1.1.0)\n",
            "Requirement already satisfied: numpy>=1.9.3 in /usr/local/lib/python3.6/dist-packages (from seaborn==0.9.0) (1.14.6)\n",
            "Requirement already satisfied: pandas>=0.15.2 in /usr/local/lib/python3.6/dist-packages (from seaborn==0.9.0) (0.22.0)\n",
            "Requirement already satisfied: matplotlib>=1.4.3 in /usr/local/lib/python3.6/dist-packages (from seaborn==0.9.0) (3.0.2)\n",
            "Requirement already satisfied: pytz>=2011k in /usr/local/lib/python3.6/dist-packages (from pandas>=0.15.2->seaborn==0.9.0) (2018.9)\n",
            "Requirement already satisfied: python-dateutil>=2 in /usr/local/lib/python3.6/dist-packages (from pandas>=0.15.2->seaborn==0.9.0) (2.5.3)\n",
            "Requirement already satisfied: cycler>=0.10 in /usr/local/lib/python3.6/dist-packages (from matplotlib>=1.4.3->seaborn==0.9.0) (0.10.0)\n",
            "Requirement already satisfied: pyparsing!=2.0.4,!=2.1.2,!=2.1.6,>=2.0.1 in /usr/local/lib/python3.6/dist-packages (from matplotlib>=1.4.3->seaborn==0.9.0) (2.3.1)\n",
            "Requirement already satisfied: kiwisolver>=1.0.1 in /usr/local/lib/python3.6/dist-packages (from matplotlib>=1.4.3->seaborn==0.9.0) (1.0.1)\n",
            "Requirement already satisfied: six>=1.5 in /usr/local/lib/python3.6/dist-packages (from python-dateutil>=2->pandas>=0.15.2->seaborn==0.9.0) (1.11.0)\n",
            "Requirement already satisfied: setuptools in /usr/local/lib/python3.6/dist-packages (from kiwisolver>=1.0.1->matplotlib>=1.4.3->seaborn==0.9.0) (40.7.3)\n"
          ],
          "name": "stdout"
        }
      ]
    },
    {
      "metadata": {
        "id": "0wQlz58ihpoQ",
        "colab_type": "text"
      },
      "cell_type": "markdown",
      "source": [
        "Gráficos por classe:"
      ]
    },
    {
      "metadata": {
        "id": "nrpEpBxIZUrf",
        "colab_type": "code",
        "outputId": "146f3790-09f3-4e11-cd19-0dd68afc8914",
        "colab": {
          "base_uri": "https://localhost:8080/",
          "height": 336
        }
      },
      "cell_type": "code",
      "source": [
        "f, (ax1, ax2, ax3) = plt.subplots(1, 3, figsize=(18, 5), sharex=True)\n",
        "x=\"Survived\"\n",
        "\n",
        "sns.barplot(data = analise, x=x, y=\"Pclass_1\",palette = 'Blues_d', ax=ax1)\n",
        "ax1.axhline(0, color=\"k\", clip_on=False)\n",
        "ax1.set_title(\"Primeira Classe\")\n",
        "ax1.set_ylabel(\"\")\n",
        "ax1.set_xlabel(\"\")\n",
        "\n",
        "sns.barplot(data = analise, x=x, y=\"Pclass_2\",palette = 'Blues_d', ax=ax2)\n",
        "ax2.axhline(0, color=\"k\", clip_on=False)\n",
        "ax2.set_title(\"Segunda Classe\")\n",
        "ax2.set_ylabel(\"\")\n",
        "ax2.set_xlabel(\"\")\n",
        "\n",
        "sns.barplot(data = analise, x=x, y=\"Pclass_3\",palette = 'Blues_d', ax=ax3)\n",
        "ax3.axhline(0, color=\"k\", clip_on=False)\n",
        "ax3.set_title(\"Terceira Classe\")\n",
        "ax3.set_ylabel(\"\")\n",
        "ax3.set_xlabel(\"\")\n",
        "plt.show()"
      ],
      "execution_count": 30,
      "outputs": [
        {
          "output_type": "display_data",
          "data": {
            "image/png": "[encoded data removed]",
            "text/plain": [
              "<Figure size 1296x360 with 3 Axes>"
            ]
          },
          "metadata": {
            "tags": []
          }
        }
      ]
    },
    {
      "metadata": {
        "id": "aj5BHW7CnPLz",
        "colab_type": "text"
      },
      "cell_type": "markdown",
      "source": [
        "Gráficos por gênero:"
      ]
    },
    {
      "metadata": {
        "id": "YeD4dXIWaTDE",
        "colab_type": "code",
        "outputId": "bdfc58a3-7949-4a38-d1bf-19ef4a04f39f",
        "colab": {
          "base_uri": "https://localhost:8080/",
          "height": 336
        }
      },
      "cell_type": "code",
      "source": [
        "f, (ax1, ax2) = plt.subplots(1, 2, figsize=(18, 5), sharex=True)\n",
        "x=\"Survived\"\n",
        "\n",
        "sns.barplot(data = analise, x=x, y=\"Sex_female\",palette = 'Blues_d', ax=ax1)\n",
        "ax1.axhline(0, color=\"k\", clip_on=False)\n",
        "ax1.set_title(\"Feminino\")\n",
        "ax1.set_ylabel(\"\")\n",
        "ax1.set_xlabel(\"\")\n",
        "\n",
        "sns.barplot(data = analise, x=x, y=\"Sex_male\",palette = 'Blues_d', ax=ax2)\n",
        "ax2.axhline(0, color=\"k\", clip_on=False)\n",
        "ax2.set_title(\"Masculino\")\n",
        "ax2.set_ylabel(\"\")\n",
        "ax2.set_xlabel(\"\")\n",
        "plt.show()"
      ],
      "execution_count": 31,
      "outputs": [
        {
          "output_type": "display_data",
          "data": {
            "image/png": "[encoded data removed]",
            "text/plain": [
              "<Figure size 1296x360 with 2 Axes>"
            ]
          },
          "metadata": {
            "tags": []
          }
        }
      ]
    },
    {
      "metadata": {
        "id": "5Y_n78tkpsw5",
        "colab_type": "text"
      },
      "cell_type": "markdown",
      "source": [
        "Gráficos por local de embarque:"
      ]
    },
    {
      "metadata": {
        "id": "zU09kQP7mVNS",
        "colab_type": "code",
        "outputId": "bf69d0a0-ec4b-4ea9-d9bc-f2d608db26a8",
        "colab": {
          "base_uri": "https://localhost:8080/",
          "height": 336
        }
      },
      "cell_type": "code",
      "source": [
        "f, (ax1, ax2, ax3) = plt.subplots(1, 3, figsize=(18, 5), sharex=True)\n",
        "x=\"Survived\"\n",
        "\n",
        "sns.barplot(data = analise, x=x, y=\"Embarked_C\",palette = 'Blues_d', ax=ax1)\n",
        "ax1.axhline(0, color=\"k\", clip_on=False)\n",
        "ax1.set_title(\"Cherbourg\")\n",
        "ax1.set_ylabel(\"\")\n",
        "ax1.set_xlabel(\"\")\n",
        "\n",
        "sns.barplot(data = analise, x=x, y=\"Embarked_Q\",palette = 'Blues_d', ax=ax2)\n",
        "ax2.axhline(0, color=\"k\", clip_on=False)\n",
        "ax2.set_title(\"Queenstown\")\n",
        "ax2.set_ylabel(\"\")\n",
        "ax2.set_xlabel(\"\")\n",
        "\n",
        "sns.barplot(data = analise, x=x, y=\"Embarked_S\",palette = 'Blues_d', ax=ax3)\n",
        "ax3.axhline(0, color=\"k\", clip_on=False)\n",
        "ax3.set_title(\"Southampton\")\n",
        "ax3.set_ylabel(\"\")\n",
        "ax3.set_xlabel(\"\")\n",
        "plt.show()"
      ],
      "execution_count": 32,
      "outputs": [
        {
          "output_type": "display_data",
          "data": {
            "image/png": "[encoded data removed]",
            "text/plain": [
              "<Figure size 1296x360 with 3 Axes>"
            ]
          },
          "metadata": {
            "tags": []
          }
        }
      ]
    },
    {
      "metadata": {
        "id": "MnLFFMrar9KX",
        "colab_type": "text"
      },
      "cell_type": "markdown",
      "source": [
        "Gráficos por faixa etária:"
      ]
    },
    {
      "metadata": {
        "id": "3tpwVpxRr0Fl",
        "colab_type": "code",
        "outputId": "3c1891d1-e794-4086-b28c-2d3f862a0ff3",
        "colab": {
          "base_uri": "https://localhost:8080/",
          "height": 336
        }
      },
      "cell_type": "code",
      "source": [
        "f, (ax1, ax2, ax3, ax4) = plt.subplots(1, 4, figsize=(18, 5), sharex=True)\n",
        "x=\"Survived\"\n",
        "\n",
        "sns.barplot(data = analise, x=x, y=\"faixa_etaria_criança\",palette = 'Blues_d', ax=ax1)\n",
        "ax1.axhline(0, color=\"k\", clip_on=False)\n",
        "ax1.set_title(\"Crianças\")\n",
        "ax1.set_ylabel(\"\")\n",
        "ax1.set_xlabel(\"\")\n",
        "\n",
        "sns.barplot(data = analise, x=x, y=\"faixa_etaria_jovem\",palette = 'Blues_d', ax=ax2)\n",
        "ax2.axhline(0, color=\"k\", clip_on=False)\n",
        "ax2.set_title(\"Jovens\")\n",
        "ax2.set_ylabel(\"\")\n",
        "ax2.set_xlabel(\"\")\n",
        "\n",
        "sns.barplot(data = analise, x=x, y=\"faixa_etaria_adulto\",palette = 'Blues_d', ax=ax3)\n",
        "ax3.axhline(0, color=\"k\", clip_on=False)\n",
        "ax3.set_title(\"Adultos\")\n",
        "ax3.set_ylabel(\"\")\n",
        "ax3.set_xlabel(\"\")\n",
        "\n",
        "sns.barplot(data = analise, x=x, y=\"faixa_etaria_idoso\",palette = 'Blues_d', ax=ax4)\n",
        "ax4.axhline(0, color=\"k\", clip_on=False)\n",
        "ax4.set_title(\"Idosos\")\n",
        "ax4.set_ylabel(\"\")\n",
        "ax4.set_xlabel(\"\")\n",
        "plt.show()"
      ],
      "execution_count": 33,
      "outputs": [
        {
          "output_type": "display_data",
          "data": {
            "image/png": "[encoded data removed]",
            "text/plain": [
              "<Figure size 1296x360 with 4 Axes>"
            ]
          },
          "metadata": {
            "tags": []
          }
        }
      ]
    },
    {
      "metadata": {
        "id": "P4NhCkIctw9E",
        "colab_type": "text"
      },
      "cell_type": "markdown",
      "source": [
        "###Correlação de variáveis:"
      ]
    },
    {
      "metadata": {
        "id": "es9m8sibuED3",
        "colab_type": "text"
      },
      "cell_type": "markdown",
      "source": [
        "Importando bibliotecas necessárias:"
      ]
    },
    {
      "metadata": {
        "id": "L0BSx4wJs6sl",
        "colab_type": "code",
        "colab": {}
      },
      "cell_type": "code",
      "source": [
        "from scipy.stats import norm\n",
        "from sklearn.preprocessing import StandardScaler\n",
        "from scipy import stats\n",
        "import warnings\n",
        "warnings.filterwarnings('ignore')\n",
        "%matplotlib inline"
      ],
      "execution_count": 0,
      "outputs": []
    },
    {
      "metadata": {
        "id": "brEqtlgcuLlg",
        "colab_type": "text"
      },
      "cell_type": "markdown",
      "source": [
        "Visualizando as correlações:"
      ]
    },
    {
      "metadata": {
        "id": "qQTpbVEfuYdv",
        "colab_type": "code",
        "outputId": "b022f8ad-0605-45c4-dfaf-ec31e6bc0063",
        "colab": {
          "base_uri": "https://localhost:8080/",
          "height": 1154
        }
      },
      "cell_type": "code",
      "source": [
        "k = 17\n",
        "f, ax = plt.subplots(figsize=(20, 20))\n",
        "corrmat = Treino_t4.corr()\n",
        "cols = corrmat.nlargest(k, 'Survived')['Survived'].index\n",
        "cm = np.corrcoef(Treino_t4[cols].values.T)\n",
        "sns.set(font_scale = 3)\n",
        "hm = sns.heatmap(cm, cbar=True, annot=True, square=True, fmt='.2f', \n",
        "                 annot_kws={'size': 9}, yticklabels=cols.values, \n",
        "                 xticklabels=cols.values)\n",
        "plt.show()"
      ],
      "execution_count": 35,
      "outputs": [
        {
          "output_type": "display_data",
          "data": {
            "image/png": "[encoded data removed]",
            "text/plain": [
              "<Figure size 1440x1440 with 2 Axes>"
            ]
          },
          "metadata": {
            "tags": []
          }
        }
      ]
    },
    {
      "metadata": {
        "id": "rjk0QD9HwAXm",
        "colab_type": "text"
      },
      "cell_type": "markdown",
      "source": [
        "***"
      ]
    },
    {
      "metadata": {
        "id": "0z4PNmEBvvpn",
        "colab_type": "text"
      },
      "cell_type": "markdown",
      "source": [
        "##Modelo Preditivo"
      ]
    },
    {
      "metadata": {
        "id": "clFCicbRwJvD",
        "colab_type": "text"
      },
      "cell_type": "markdown",
      "source": [
        "### Árvore de decisão (Decision Tree):"
      ]
    },
    {
      "metadata": {
        "id": "2s4VFTvKwZbE",
        "colab_type": "text"
      },
      "cell_type": "markdown",
      "source": [
        "Importando a biblioteca:"
      ]
    },
    {
      "metadata": {
        "id": "t18NHReEurWb",
        "colab_type": "code",
        "colab": {}
      },
      "cell_type": "code",
      "source": [
        "from sklearn.tree import DecisionTreeClassifier"
      ],
      "execution_count": 0,
      "outputs": []
    },
    {
      "metadata": {
        "id": "5bgAYBc-whBE",
        "colab_type": "text"
      },
      "cell_type": "markdown",
      "source": [
        "Separando as variáveis preditora(X) e alvo(Y):"
      ]
    },
    {
      "metadata": {
        "id": "8j0tf1SCwc8E",
        "colab_type": "code",
        "colab": {}
      },
      "cell_type": "code",
      "source": [
        "X = Treino_t4.drop('Survived', axis=1)\n",
        "Y = Treino_t4['Survived']"
      ],
      "execution_count": 0,
      "outputs": []
    },
    {
      "metadata": {
        "id": "MtHU66crw034",
        "colab_type": "text"
      },
      "cell_type": "markdown",
      "source": [
        "Construção do modelo:"
      ]
    },
    {
      "metadata": {
        "id": "oegRt3mZwwtC",
        "colab_type": "code",
        "outputId": "80ae10bf-5bcc-4c41-dd25-c0690bb66305",
        "colab": {
          "base_uri": "https://localhost:8080/",
          "height": 127
        }
      },
      "cell_type": "code",
      "source": [
        "tree = DecisionTreeClassifier(max_depth=3, random_state=0)\n",
        "tree.fit(X,Y)"
      ],
      "execution_count": 38,
      "outputs": [
        {
          "output_type": "execute_result",
          "data": {
            "text/plain": [
              "DecisionTreeClassifier(class_weight=None, criterion='gini', max_depth=3,\n",
              "            max_features=None, max_leaf_nodes=None,\n",
              "            min_impurity_decrease=0.0, min_impurity_split=None,\n",
              "            min_samples_leaf=1, min_samples_split=2,\n",
              "            min_weight_fraction_leaf=0.0, presort=False, random_state=0,\n",
              "            splitter='best')"
            ]
          },
          "metadata": {
            "tags": []
          },
          "execution_count": 38
        }
      ]
    },
    {
      "metadata": {
        "id": "mNCtapoCw9zn",
        "colab_type": "text"
      },
      "cell_type": "markdown",
      "source": [
        "Avaliando a acurácia do modelo:"
      ]
    },
    {
      "metadata": {
        "id": "oCErSWezw4yk",
        "colab_type": "code",
        "outputId": "9f0753db-4964-401e-ff16-9262d04842fb",
        "colab": {
          "base_uri": "https://localhost:8080/",
          "height": 35
        }
      },
      "cell_type": "code",
      "source": [
        "tree.score(X,Y)"
      ],
      "execution_count": 39,
      "outputs": [
        {
          "output_type": "execute_result",
          "data": {
            "text/plain": [
              "0.8316498316498316"
            ]
          },
          "metadata": {
            "tags": []
          },
          "execution_count": 39
        }
      ]
    },
    {
      "metadata": {
        "id": "w2i6G2aAxLFV",
        "colab_type": "text"
      },
      "cell_type": "markdown",
      "source": [
        "###Aplicando o modelo no dataset de teste:"
      ]
    },
    {
      "metadata": {
        "id": "2mAHbb99xnYP",
        "colab_type": "text"
      },
      "cell_type": "markdown",
      "source": [
        "O desafio pede que seja gerado um arquivo .csv com duas colunas: a  \"PassengerID\" extraída do dataset de teste e a \"Survived\", essa última com a nossa predição."
      ]
    },
    {
      "metadata": {
        "id": "9pPP2q4DxF0E",
        "colab_type": "code",
        "colab": {}
      },
      "cell_type": "code",
      "source": [
        "Resultado_tree = pd.DataFrame()\n",
        "Resultado_tree['PassengerId'] = Teste_t4['PassengerId']\n",
        "Resultado_tree['Survived'] = tree.predict(Teste_t4)"
      ],
      "execution_count": 0,
      "outputs": []
    },
    {
      "metadata": {
        "id": "ZBBFIeINygMw",
        "colab_type": "text"
      },
      "cell_type": "markdown",
      "source": [
        "Conferindo o DataFrame criado:"
      ]
    },
    {
      "metadata": {
        "id": "k-MIe2jTybIs",
        "colab_type": "code",
        "outputId": "c459768e-0a17-42ff-a3fc-e5da8d05eccc",
        "colab": {
          "base_uri": "https://localhost:8080/",
          "height": 206
        }
      },
      "cell_type": "code",
      "source": [
        "Resultado_tree.head()"
      ],
      "execution_count": 41,
      "outputs": [
        {
          "output_type": "execute_result",
          "data": {
            "text/html": [
              "<div>\n",
              "<style scoped>\n",
              "    .dataframe tbody tr th:only-of-type {\n",
              "        vertical-align: middle;\n",
              "    }\n",
              "\n",
              "    .dataframe tbody tr th {\n",
              "        vertical-align: top;\n",
              "    }\n",
              "\n",
              "    .dataframe thead th {\n",
              "        text-align: right;\n",
              "    }\n",
              "</style>\n",
              "<table border=\"1\" class=\"dataframe\">\n",
              "  <thead>\n",
              "    <tr style=\"text-align: right;\">\n",
              "      <th></th>\n",
              "      <th>PassengerId</th>\n",
              "      <th>Survived</th>\n",
              "    </tr>\n",
              "  </thead>\n",
              "  <tbody>\n",
              "    <tr>\n",
              "      <th>0</th>\n",
              "      <td>892</td>\n",
              "      <td>0</td>\n",
              "    </tr>\n",
              "    <tr>\n",
              "      <th>1</th>\n",
              "      <td>893</td>\n",
              "      <td>1</td>\n",
              "    </tr>\n",
              "    <tr>\n",
              "      <th>2</th>\n",
              "      <td>894</td>\n",
              "      <td>0</td>\n",
              "    </tr>\n",
              "    <tr>\n",
              "      <th>3</th>\n",
              "      <td>895</td>\n",
              "      <td>0</td>\n",
              "    </tr>\n",
              "    <tr>\n",
              "      <th>4</th>\n",
              "      <td>896</td>\n",
              "      <td>1</td>\n",
              "    </tr>\n",
              "  </tbody>\n",
              "</table>\n",
              "</div>"
            ],
            "text/plain": [
              "   PassengerId  Survived\n",
              "0          892         0\n",
              "1          893         1\n",
              "2          894         0\n",
              "3          895         0\n",
              "4          896         1"
            ]
          },
          "metadata": {
            "tags": []
          },
          "execution_count": 41
        }
      ]
    },
    {
      "metadata": {
        "id": "HHRrOY_syqks",
        "colab_type": "text"
      },
      "cell_type": "markdown",
      "source": [
        "Exportando o resultado para o arquivo .csv"
      ]
    },
    {
      "metadata": {
        "id": "vaitOhY7yerz",
        "colab_type": "code",
        "colab": {}
      },
      "cell_type": "code",
      "source": [
        "Resultado_tree.to_csv('Resultado_tree.csv', index=False)"
      ],
      "execution_count": 0,
      "outputs": []
    },
    {
      "metadata": {
        "id": "I5REq49f0H2M",
        "colab_type": "text"
      },
      "cell_type": "markdown",
      "source": [
        "O arquivo está .csv está disponível em:\n",
        "<br/>\n",
        "https://diegoabreu.com/Uploads/Datasets/Kg-Titanic/Resultado_tree.csv"
      ]
    },
    {
      "metadata": {
        "id": "SLdTPdkc0A91",
        "colab_type": "text"
      },
      "cell_type": "markdown",
      "source": [
        "***"
      ]
    },
    {
      "metadata": {
        "id": "7FuCEcBG0FYW",
        "colab_type": "text"
      },
      "cell_type": "markdown",
      "source": [
        "##Considerações finais"
      ]
    },
    {
      "metadata": {
        "id": "MwyhR37Q0soz",
        "colab_type": "text"
      },
      "cell_type": "markdown",
      "source": [
        "Com esse modelo conseguimos uma nota de 0.79904 no desafio do Kaggle, ou seja, tivemos 79,90% de acerto. <br/>\n",
        "Esse é um valor muito bom. Tendo em vista que sobreviver ou não a um acidente é um fato bem complexo. Mesmo que um individuo tenha características que favoreçam a sobrevivência, isso não significa que ele vá efetivamente sobreviver. Isso depende também de outros fatores que não temos acesso como onde ele estava no momento, estado de saúde, preparo físico e etc...<br/>\n",
        "Acertar praticamente 8 em cada 10 é uma taxa bem legal para o problema proposto. <br/>\n",
        "Ainda assim, acredito que essa taxa pode ser melhorada, talvez trabalhando de forma diferente as variáveis ou usando um outro modelo de predição. Enfim, estou aberto a sugestões e caso descubra algo novo, atualizarei esse código."
      ]
    },
    {
      "metadata": {
        "id": "QloAqX3u55qE",
        "colab_type": "text"
      },
      "cell_type": "markdown",
      "source": [
        "***"
      ]
    }
  ]
}